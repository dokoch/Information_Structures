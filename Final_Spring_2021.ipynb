{
 "cells": [
  {
   "cell_type": "markdown",
   "metadata": {},
   "source": [
    "# Final Python Exam for Information Structures Spring 2021\n",
    "\n",
    "* There are 20 questions, each worth 5 points and 1 bonus question worth 5 points (wont count against you if you miss it).\n",
    "* The final is due Friday March 19 by 5:00 PM CST\n",
    "* This is an \"open book\" exam, meaning you can use any resource at your disposal except other students.\n",
    "* Email immediately if you need clarification on any question.  [dokoch@lispcomb.edu]"
   ]
  },
  {
   "cell_type": "markdown",
   "metadata": {},
   "source": [
    "---\n",
    "\n",
    "Execute the following two code cells to begin your Python session.\n",
    "\n",
    "---"
   ]
  },
  {
   "cell_type": "code",
   "execution_count": null,
   "metadata": {},
   "outputs": [],
   "source": [
    "# Standard imports.\n",
    "import saspy\n",
    "import pandas as pd\n",
    "import numpy as np\n",
    "import matplotlib.pyplot as plt\n",
    "from IPython.display import HTML\n",
    "from datetime import datetime\n",
    "from numpy import nan as NA\n",
    "import math\n",
    "import sys"
   ]
  },
  {
   "cell_type": "code",
   "execution_count": null,
   "metadata": {},
   "outputs": [],
   "source": [
    "# Get a SAS session object\n",
    "sas = saspy.SASsession(cfgname=\"oda\")"
   ]
  },
  {
   "cell_type": "markdown",
   "metadata": {},
   "source": [
    "---\n",
    "## Problem 1\n",
    "---"
   ]
  },
  {
   "cell_type": "markdown",
   "metadata": {},
   "source": [
    "Question 1.1: Complete the statement below to create a SASData object to retrieve data from SASHELP.CARS data set."
   ]
  },
  {
   "cell_type": "code",
   "execution_count": null,
   "metadata": {},
   "outputs": [],
   "source": [
    "cars_sd = sas.sasdata()\n",
    "cars_sd.head()"
   ]
  },
  {
   "cell_type": "markdown",
   "metadata": {},
   "source": [
    "Question 1.2: Complete the statement below to create a new SASData object from the **cars_sd** object where the records are filtered to only include cars made in USA and with an MSRP greater than $30,000."
   ]
  },
  {
   "cell_type": "code",
   "execution_count": null,
   "metadata": {},
   "outputs": [],
   "source": [
    "cars_us_luxury_sd = cars_sd.where()\n",
    "cars_us_luxury_sd.head()"
   ]
  },
  {
   "cell_type": "markdown",
   "metadata": {},
   "source": [
    "Question 1.3: Complete the statement below to create a new DataFrame object using a method from the **cars_us_luxury_sd** SASData object."
   ]
  },
  {
   "cell_type": "code",
   "execution_count": null,
   "metadata": {},
   "outputs": [],
   "source": [
    "cars_us_luxury_df =\n",
    "cars_us_luxury_df.head()"
   ]
  },
  {
   "cell_type": "markdown",
   "metadata": {},
   "source": [
    "Question 1.4: Complete the statement below to create a new column in **cars_us_luxury_df** called **Difference** that is the difference between **MSRP** and **Invoice**."
   ]
  },
  {
   "cell_type": "code",
   "execution_count": null,
   "metadata": {},
   "outputs": [],
   "source": [
    "cars_us_luxury_df[] = cars_us_luxury_df[] - cars_us_luxury_df[]\n",
    "cars_us_luxury_df.head()"
   ]
  },
  {
   "cell_type": "markdown",
   "metadata": {},
   "source": [
    "Problem 1.5: Complete the statement below to only keep the \"Model\", \"Type\", \"Origin\", \"MSRP\" and \"Difference\" columns."
   ]
  },
  {
   "cell_type": "code",
   "execution_count": null,
   "metadata": {},
   "outputs": [],
   "source": [
    "cars_us_luxury_df = cars_us_luxury_df.\n",
    "cars_us_luxury_df.head()"
   ]
  },
  {
   "cell_type": "markdown",
   "metadata": {},
   "source": [
    "---\n",
    "## Problem 2\n",
    "---"
   ]
  },
  {
   "cell_type": "markdown",
   "metadata": {},
   "source": [
    "Run the following code cell to create a *SASData* object called **heart_sd** and a *DataFrame* object called **heart_df** "
   ]
  },
  {
   "cell_type": "code",
   "execution_count": null,
   "metadata": {},
   "outputs": [],
   "source": [
    "heart_sd = sas.sasdata('heart', 'sashelp')\n",
    "heart_df = heart_sd.to_df()"
   ]
  },
  {
   "cell_type": "markdown",
   "metadata": {},
   "source": [
    "JupyterLab Notebooks support \"magic\" commands, which begin with a % and fulfill various utility purposes.\\\n",
    "The **%time** magic command provides a way to see how long a Python statement takes to execute.\\\n",
    "One of the outputs of **%time** is \"Wall time:\" which measures how long the command took according to the clock on your wall, or total elapsed time.  Time is usually reported in seconds (s) or micro seconds (µs).  \n",
    "\n",
    "Execute the following two .head(1) statements and answer the following question."
   ]
  },
  {
   "cell_type": "code",
   "execution_count": null,
   "metadata": {},
   "outputs": [],
   "source": [
    "%time heart_sd.head(1)"
   ]
  },
  {
   "cell_type": "code",
   "execution_count": null,
   "metadata": {},
   "outputs": [],
   "source": [
    "%time heart_df.head(1)"
   ]
  },
  {
   "cell_type": "markdown",
   "metadata": {},
   "source": [
    "Question 2.1: Which object takes longer to execute?\n",
    "\n",
    "Answer 2.1: \n",
    "\n",
    "Question 2.2: Explain why there is a significant difference in the execute times of these two statements.\n",
    "\n",
    "Answer 2.2:\n"
   ]
  },
  {
   "cell_type": "markdown",
   "metadata": {},
   "source": [
    "---\n",
    "The Python **sys** library has a method called **sys.getsizeof()** which returns the number of bytes that the object takes up in memory.\n",
    "\n",
    "Execute the following two code cells and answer the the following question."
   ]
  },
  {
   "cell_type": "code",
   "execution_count": null,
   "metadata": {},
   "outputs": [],
   "source": [
    "sys.getsizeof(heart_df)"
   ]
  },
  {
   "cell_type": "code",
   "execution_count": null,
   "metadata": {},
   "outputs": [],
   "source": [
    "sys.getsizeof(heart_sd)"
   ]
  },
  {
   "cell_type": "markdown",
   "metadata": {},
   "source": [
    "Question 2.3: Which object uses more of your computers memory?\n",
    "\n",
    "Answer 2.3:\n",
    "\n",
    "Question 2.4: Why is there such a significant difference in the memory requirements of these two objects?\n",
    "\n",
    "Answer 2.4:\n",
    "\n"
   ]
  },
  {
   "cell_type": "markdown",
   "metadata": {},
   "source": [
    "---\n",
    "## Problem 3\n",
    "---"
   ]
  },
  {
   "cell_type": "markdown",
   "metadata": {},
   "source": [
    "Question 3.1: Create a dictionary that contains the following Key/Value pairs.\n",
    "\n",
    "| Key | Value | \n",
    "| --- | --- | \n",
    "| C | Cantaloupe | \n",
    "| A   | Apple | \n",
    "| D | Dog | \n",
    "| B   | Banana | "
   ]
  },
  {
   "cell_type": "code",
   "execution_count": null,
   "metadata": {},
   "outputs": [],
   "source": [
    "fruit_dict = \n",
    "fruit_dict"
   ]
  },
  {
   "cell_type": "markdown",
   "metadata": {},
   "source": [
    "Question 3.2: Which item in the dictionary is not actually a fruit?\n",
    "\n",
    "Answer 3.2:"
   ]
  },
  {
   "cell_type": "markdown",
   "metadata": {},
   "source": [
    "Question 3.3: Complete the statement below to print out the following message:\n",
    "\n",
    "```\n",
    "The dictionary item <key> is <value> and not really a fruit\n",
    "```\n",
    "\n",
    "Use variable references to replace \\<key\\> and \\<value\\> in the format string. "
   ]
  },
  {
   "cell_type": "code",
   "execution_count": null,
   "metadata": {},
   "outputs": [],
   "source": [
    "# Put the appropriate key value between the quotes.\n",
    "key = ''\n",
    "\n",
    "# Put a properly formatted format string between the quotes\n",
    "print(f'')"
   ]
  },
  {
   "cell_type": "markdown",
   "metadata": {},
   "source": [
    "Question 3.4: Complete the statement below to add the new Key/Value pair 'E'/'Eggplant'."
   ]
  },
  {
   "cell_type": "code",
   "execution_count": null,
   "metadata": {},
   "outputs": [],
   "source": [
    "fruit_dict[] = \n",
    "fruit_dict"
   ]
  },
  {
   "cell_type": "markdown",
   "metadata": {},
   "source": [
    "---\n",
    "## Problem 4\n",
    "---"
   ]
  },
  {
   "cell_type": "markdown",
   "metadata": {},
   "source": [
    "Execute the next code cell to complete the questions in Problem 4."
   ]
  },
  {
   "cell_type": "code",
   "execution_count": null,
   "metadata": {},
   "outputs": [],
   "source": [
    "data = {'Name':    ['Alfred', 'Alice', 'Barbara', 'Carol', 'Henry'],\n",
    "        'Sex':     ['M', 'F', 'F', 'F', 'M'],\n",
    "        'Age':     [14, 13, 13, 14, 13],\n",
    "        'Height':  [69, 65.5, 65.3, 62.8, 63.5],\n",
    "        'Weight':  [112.5, 84, 98, 102.5, 102.5],\n",
    "       }"
   ]
  },
  {
   "cell_type": "markdown",
   "metadata": {},
   "source": [
    "Question 4.1: What type of object is **data**?\n",
    "\n",
    "Answer 4.1:"
   ]
  },
  {
   "cell_type": "markdown",
   "metadata": {},
   "source": [
    "Question 4.2: What are the object types of the Keys and Values in **data**?\n",
    "\n",
    "Answer 4.2"
   ]
  },
  {
   "cell_type": "markdown",
   "metadata": {},
   "source": [
    "Question 4.3: Complete the code below to create a new DataFrame using the **data** object."
   ]
  },
  {
   "cell_type": "code",
   "execution_count": null,
   "metadata": {},
   "outputs": [],
   "source": [
    "students_df = pd.DataFrame()\n",
    "students_df"
   ]
  },
  {
   "cell_type": "markdown",
   "metadata": {},
   "source": [
    "Question 4.4: Complete the statement below with the method would you use to print out summary statistics for this data?"
   ]
  },
  {
   "cell_type": "code",
   "execution_count": null,
   "metadata": {},
   "outputs": [],
   "source": [
    "students_df."
   ]
  },
  {
   "cell_type": "markdown",
   "metadata": {},
   "source": [
    "Question 4.5: Complete the statement below to find the Pearson's correlation coefficient for **Age** versus **Height** and **Age** versus **Weight**?\n",
    "\n",
    "Answer 4.5:"
   ]
  },
  {
   "cell_type": "code",
   "execution_count": null,
   "metadata": {},
   "outputs": [],
   "source": [
    "students_df."
   ]
  },
  {
   "cell_type": "markdown",
   "metadata": {},
   "source": [
    "Question 4.6: True or False: Weight is a better predictor of Age than height. \n",
    "\n",
    "Answer 4.6:"
   ]
  },
  {
   "cell_type": "markdown",
   "metadata": {},
   "source": [
    "Question 4.7: We just received the grade information for these students:\n",
    "\n",
    "| Name | Grade | \n",
    "| --- | --- | \n",
    "| Alfred | 8|\n",
    "| Alice | 7 | \n",
    "| Barbara | 6 | \n",
    "| Carol | 8 | \n",
    "| Henry | 8 | \n",
    "\n",
    "Complete the statement below to add a \"Grade\" column to the DataFrame.\n"
   ]
  },
  {
   "cell_type": "code",
   "execution_count": null,
   "metadata": {},
   "outputs": [],
   "source": [
    "students_df[] = \n",
    "students_df"
   ]
  },
  {
   "cell_type": "markdown",
   "metadata": {},
   "source": [
    "**BONUS QUESTION:**  The operation of transposing a table involves \"rotating\" the table so that the rows become columns and columns become rows.\n",
    "\n",
    "Using the methods for discovering what an object is capable of that we discussed\n",
    "in class, create a new DataFrame that is a transpose of the students_df DataFrame."
   ]
  },
  {
   "cell_type": "code",
   "execution_count": null,
   "metadata": {},
   "outputs": [],
   "source": [
    "students_transposed_df = \n",
    "students_transposed_df"
   ]
  },
  {
   "cell_type": "markdown",
   "metadata": {},
   "source": [
    "---\n",
    "# End of Final\n",
    "---"
   ]
  }
 ],
 "metadata": {
  "kernelspec": {
   "display_name": "Python 3",
   "language": "python",
   "name": "python3"
  },
  "language_info": {
   "codemirror_mode": {
    "name": "ipython",
    "version": 3
   },
   "file_extension": ".py",
   "mimetype": "text/x-python",
   "name": "python",
   "nbconvert_exporter": "python",
   "pygments_lexer": "ipython3",
   "version": "3.8.5"
  }
 },
 "nbformat": 4,
 "nbformat_minor": 4
}
